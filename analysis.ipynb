{
 "cells": [
  {
   "cell_type": "code",
   "execution_count": null,
   "metadata": {},
   "outputs": [],
   "source": [
    "import pandas as pd\n",
    "from sentiment.analyser import apply_sentiment_analysis\n",
    "from sentiment.parser import read_driver_reaction_file, read_driver_times_file\n",
    "import os"
   ]
  },
  {
   "cell_type": "code",
   "execution_count": null,
   "metadata": {},
   "outputs": [],
   "source": [
    "def read_data_files(year):\n",
    "    \n",
    "    teams = pd.read_csv(f'data/{year}/teams.csv')\n",
    "\n",
    "    races = os.listdir(f'data/{year}/races')\n",
    "\n",
    "    df = pd.DataFrame(\n",
    "        columns=[\"race\", \"driver\", \"place\", \"reaction\"]\n",
    "    )\n",
    "\n",
    "    for race in races:\n",
    "        df_driver_times = read_driver_times_file(f\"data/{year}/races/{race}/driver-times.csv\")\n",
    "        df_driver_reactions = read_driver_reaction_file(f\"data/{year}/races/{race}/driver-reactions.csv\", df_driver_times)\n",
    "        df_driver_reactions[\"race\"] = race\n",
    "        df = pd.concat([df, df_driver_reactions], ignore_index=True)\n",
    "\n",
    "    df = pd.merge(df, teams, on='driver', how='left')\n",
    "\n",
    "    return df"
   ]
  },
  {
   "cell_type": "code",
   "execution_count": null,
   "metadata": {},
   "outputs": [],
   "source": [
    "def run():\n",
    "    year = \"2024\"\n",
    "    df = read_data_files(year)\n",
    "    df = apply_sentiment_analysis(df)\n",
    "    # df[\"sentiment_normalised\"] = df[\"sentiment\"] * df[\"place\"]\n",
    "    return df"
   ]
  },
  {
   "cell_type": "code",
   "execution_count": null,
   "metadata": {},
   "outputs": [],
   "source": [
    "df = run()"
   ]
  },
  {
   "cell_type": "code",
   "execution_count": null,
   "metadata": {},
   "outputs": [],
   "source": [
    "df"
   ]
  },
  {
   "cell_type": "code",
   "execution_count": null,
   "metadata": {},
   "outputs": [],
   "source": [
    "# Which driver is the most positive, and what is their average sentiment?\n",
    "most_positive_driver = df.groupby(\"driver\")[\"sentiment\"].mean().idxmax()\n",
    "average_sentiment = df.groupby(\"driver\")[\"sentiment\"].mean().max()\n"
   ]
  },
  {
   "cell_type": "code",
   "execution_count": null,
   "metadata": {},
   "outputs": [],
   "source": [
    "print(f\"The most positive driver is {most_positive_driver} with an average sentiment of {average_sentiment}\")"
   ]
  },
  {
   "cell_type": "code",
   "execution_count": null,
   "metadata": {},
   "outputs": [],
   "source": [
    "# Which driver is the most negative, and what is their average sentiment?\n",
    "most_negative_driver = df.groupby(\"driver\")[\"sentiment\"].mean().idxmin()\n",
    "average_sentiment = df.groupby(\"driver\")[\"sentiment\"].mean().min()"
   ]
  },
  {
   "cell_type": "code",
   "execution_count": null,
   "metadata": {},
   "outputs": [],
   "source": [
    "print(f\"The most negative driver is {most_negative_driver} with an average sentiment of {average_sentiment}\")"
   ]
  },
  {
   "cell_type": "code",
   "execution_count": null,
   "metadata": {},
   "outputs": [],
   "source": [
    "# get average sentiment per driver and order by sentiment descending\n",
    "df.groupby(\"driver\")[\"sentiment\"].mean().sort_values(ascending=False).plot(kind=\"bar\", x=\"driver\", y=\"sentiment\")\n"
   ]
  },
  {
   "cell_type": "code",
   "execution_count": null,
   "metadata": {},
   "outputs": [],
   "source": [
    "df.groupby(\"team\")[\"sentiment\"].mean().sort_values(ascending=False).plot(kind=\"bar\", x=\"team\", y=\"sentiment\")"
   ]
  },
  {
   "cell_type": "code",
   "execution_count": null,
   "metadata": {},
   "outputs": [],
   "source": [
    "df.groupby(\"race\")[\"sentiment\"].mean().reset_index().plot(kind=\"bar\", x=\"race\", y=\"sentiment\")"
   ]
  },
  {
   "cell_type": "code",
   "execution_count": null,
   "metadata": {},
   "outputs": [],
   "source": [
    "# show correlation between sentiment and place, exclude DNF places, convert sentiment to int\n",
    "df_plot = df.copy()\n",
    "df_plot[\"sentiment\"] = (df_plot[\"sentiment\"] * 100).astype(int)\n",
    "df_plot = df_plot[df_plot[\"place\"] != \"DNF\"]\n",
    "df_plot[\"place\"] = df_plot[\"place\"].astype(int)\n",
    "df_plot.plot(kind=\"scatter\", x=\"place\", y=\"sentiment\")"
   ]
  }
 ],
 "metadata": {
  "kernelspec": {
   "display_name": ".venv",
   "language": "python",
   "name": "python3"
  },
  "language_info": {
   "codemirror_mode": {
    "name": "ipython",
    "version": 3
   },
   "file_extension": ".py",
   "mimetype": "text/x-python",
   "name": "python",
   "nbconvert_exporter": "python",
   "pygments_lexer": "ipython3",
   "version": "3.9.9"
  }
 },
 "nbformat": 4,
 "nbformat_minor": 2
}
